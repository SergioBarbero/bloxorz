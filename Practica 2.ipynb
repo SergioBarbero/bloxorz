{
 "cells": [
  {
   "cell_type": "code",
   "execution_count": 1,
   "metadata": {
    "collapsed": false
   },
   "outputs": [
    {
     "ename": "SyntaxError",
     "evalue": "invalid syntax (<ipython-input-1-ba3ded5b2918>, line 3)",
     "output_type": "error",
     "traceback": [
      "\u001b[0;36m  File \u001b[0;32m\"<ipython-input-1-ba3ded5b2918>\"\u001b[0;36m, line \u001b[0;32m3\u001b[0m\n\u001b[0;31m    En la práctica 2 se van a implementar las funciones necesarias para resolver el bloxorz usando A\\* o A (si la heurística que utilizamos no es minorante).\u001b[0m\n\u001b[0m        ^\u001b[0m\n\u001b[0;31mSyntaxError\u001b[0m\u001b[0;31m:\u001b[0m invalid syntax\n"
     ]
    }
   ],
   "source": [
    "# Práctica 2: Resolución de bloxorz usando A\\* (o solamente A).\n",
    "\n",
    "En la práctica 2 se van a implementar las funciones necesarias para resolver el bloxorz usando A\\* o A (si la heurística que utilizamos no es minorante).\n",
    "\n",
    "## Requisitos\n",
    "1. Tener la función mueve de la práctica 1 funcionando correctamente.\n",
    "2. Tener la implementación de A\\* funcionando correctamente sobre el grafo.\n",
    "\n",
    "Antes de dedicar tiempo a implementar la resolución del bloxorz usando A\\* el alumno deberá estar completamente seguro de que lo anterior está correcto.\n",
    "Para ello debe usar distintos test que comprueben que tanto la salida de la función **mueve** como de la función **AStar** es la esperada.\n",
    "\n",
    "De lo contrario la depuración y búsqueda de errores será impracticable, ya que no se sabrá si el fallo está en las funciones de sucesores, meta, heurística o si está en el propio AStar o era la función mueve.\n",
    "\n"
   ]
  },
  {
   "cell_type": "markdown",
   "metadata": {
    "nbpresent": {
     "id": "95c5c1d0-5375-4503-8515-67f26890db6f"
    }
   },
   "source": [
    "## Primeros pasos.\n",
    "\n",
    "### ModeloMueve.py\n",
    "\n",
    "Copiar tu función **mueve** al fichero ModeloMueve.py (sustituyendo la implementación vacía que hay). Mueve también todas las funciones auxiliares.\n",
    "Este fichero completa y sustituye al fichero Modelo.py a partir de ahora. Es igual que Modelo.py pero tiene una nueva función **getCoordenadasMeta** que recibe un mapa devuelve las coordenadas de la meta.\n",
    "ModeloMueve.py también añade dos funciones nuevas para la clase Estado:\n",
    "1. \\_\\_eq\\_\\_(self, other). Esta función recibe otro objeto de tipo Estado y devuelve True si son iguales y False en caso contrario. Tiene en cuenta que cuando el bloque esta tumbado es igual que otro bloque tumbado sobre las mismas coordenadas independientemente del orden. [A,B] es igual a [B,A] siendo A y B coordenadas.\n",
    "2. \\_\\_hash\\_\\_(self). Esta función es necesaria para poder utilizar el Estado como clave en un diccionario. Devuelve una código numérico que representa al Estado. \n",
    "\n",
    "### Busqueda.py\n",
    "\n",
    "Copia tu función **AStar** dentro del fichero Busqueda.py (sustituyendo la implementación de AStar vacía), este fichero ya contiene la definición de Nodo y de Abiertos, por lo tanto todo lo relativo al A\\* queda dentro de Busqueda.py\n",
    "\n",
    "### Comprueba que funcionan correctamente tus funciones al moverlas a ModeloMueve.py y Busqueda.py\n",
    "\n",
    "Descomenta el código de abajo para probar la función mueve funciona correctamente."
   ]
  },
  {
   "cell_type": "code",
   "execution_count": 2,
   "metadata": {
    "collapsed": false,
    "nbpresent": {
     "id": "857543e8-eef3-4f0d-b58f-21d09b2f7e8b"
    }
   },
   "outputs": [],
   "source": [
    "from IPython.display import display\n",
    "from ipywidgets import HTML, Dropdown ,Button, HBox, VBox, Box\n",
    "\n",
    "from ModeloMueve import Interruptor, Estado, Nivel, Juego, mueve, getCoordenadasMeta, activarTemporales, activoInterruptor, estaDentro, coordDentro, esHueco, hayTempActivada, estaTumbado, esMeta\n",
    "from Loader import getJuego, getAllLevels\n",
    "from gui import pintaJuego\n",
    "from Busqueda import *\n",
    "\n",
    "\n",
    "#j5 = getJuego('levels/level05.txt')\n",
    "#nivel = j5.getNivel()\n",
    "#est = j5.getEstado()\n",
    "#print(mueve(est,nivel,[1,0]))\n",
    "\n",
    "#Para probar que importa correctamente los métodos de tu ModeloMueve.py\n"
   ]
  },
  {
   "cell_type": "markdown",
   "metadata": {
    "nbpresent": {
     "id": "8b82dd95-f860-4cac-902c-cd7be06ade54"
    }
   },
   "source": [
    "# Funciones Obligatorias\n",
    "\n",
    "Las funciones obligatorias y que se van a valorar son:\n",
    "1. AStar\n",
    "2. getNodoInicial\n",
    "3. sucesoresBloxorz\n",
    "4. metaBloxorz\n",
    "5. heuristicaBloxorz (junto con una explicación de la función elegida, ver más abajo)\n",
    "\n",
    "Adicionalmente se valorará cualquier modificación estética o funcional del código proporcionado por el profesor.\n",
    "\n",
    "## AStar\n",
    "La función debe de usar la clase Abiertos y la clase Nodo.\n",
    "La función debe de funcionar correctamente sobre el grafo y sobre el juego Bloxorz (al menos los niveles más pequeños.)\n",
    "\n",
    "## getNodoInicial\n",
    "Esta función recibe un estado y devuelve un Nodo inicial. Con padre nulo, g = 0 y f = valor heurístico. \n",
    "\n",
    "## sucesoresBloxorz\n",
    "\n",
    "Esta función recibe un nodo y devuelve una lista de nodos sucesores.\n",
    "La función **mueve** realizada en la práctica 1 recibe estado, nivel y movimiento. \n",
    "La función sucesoresBloxorz utilizará la funcion **mueve**, es estado será el que está contenido en el nodo recibido por parámetro, el nivel está guardado en la variable global *nivel_global* y el movimiento sera cada uno de los 4 posibles movimientos.\n",
    "\n",
    "Si se intenta hacer un movimiento que no es válido la función **mueve** devuelve una copia del estado pasado por parámetro, así pues si un hijo es igual que el padre no se devuelve. \n",
    "\n",
    "Si en una determinada posición solo se puede mover en N direcciones, solo se devolverán N hijos.\n",
    "\n",
    "## metaBloxorz\n",
    "\n",
    "Es una función que recibe un estado y devuelve True si es una meta.\n",
    "Puede utilizar la funcion getCoordenadasMeta que pasado un mapa devuelve las coordenadas de la meta.\n",
    "\n",
    "\n",
    "## heuristicaBloxorz\n",
    "\n",
    "Esta es la función clave que hará que el algoritmo de búsqueda explore muchos o pocos nodos. Es una función libre que puede ser sencilla o complicada. Junto con la función se debe proporcionar una explicación (en una celda de tipo Markdown) de si la heurística elegida es minorante o mayorante, su coste de computo, otras heurísticas que se estudiaron y cual ha sido el criterio usado para elegir esta heurística respecto a cualquier otra.\n",
    "\n",
    "### Posibles heurísticas:\n",
    "##### Manhatan (Complejidad baja, exactitud baja)\n",
    "El valor heurístico concide con la distancia de manhatan entre la meta y el bloque si está de pie. O la mayor de las distancias de manhatan y las coordenadas del bloque si está tumbado.\n",
    "\n",
    "##### Anchura desde la meta (Complejidad alta, exactitud alta)\n",
    "Se va a tener un diccionario. La clave va a ser un estado, el valor va a ser la profundidad en la que se llegó a dicho estado partiendo desde la meta usando búsqueda en anchura, considerando que todas las casillas temporales están activadas.\n",
    "Dicho diccionario se crea al cargar el mapa. Luego en la función heuristicas solo le consulto.\n",
    "Un ejemplo del funcionamiento de esta heurística se encuentra en el fichero trazaHeuristicaAnchuraDesdeMeta.txt\n",
    "\n",
    "#### Posibles variantes\n",
    "Se puede calcular un valor heuristico usando una de las heurísticas anteriores o cualquier otra y después modificar su valor para hacerlo más próximo a la realidad. Usando reglas de sentido común.\n",
    "1. Variante \"muchos caminos abiertos\". Un estado en el que haya muchas casillas temporales activadas debería tener un valor heurístico más bajo que otro en el que no hay ninguna, porque se gastarian pasos en ir a activar el interruptor necesario.\n",
    "2. Variante \"encerrado\". Un estado que tenga un bloque \"encerrado\" en una porción del mapa deberá devolver un valor heurístico más bajo a medida que se aproxime al interruptor que abre el camino en lugar de a medida que se aproxime a la meta. Porque nunca podrá llegar a la meta si antes no ha activado dicho camino.\n",
    "\n",
    "Las heurísticas y variantes anteriores son inventadas por el profesor, cualquier heurística inventada por un alumno puede ser igual de válida o mejor que las anteriores. Hasta donde conozco, no hay heurísticas de este juego en Internet, así que cualquier idea que devuelva un valor aproximado de los pasos que faltan para llegar a la meta puede valer.\n",
    "\n",
    "Solo hay que tener en cuenta que la heurística se tiene que calcular de todos los estados que se evaluan, así que tiene que ser un procedimiento rápido.\n",
    "\n"
   ]
  },
  {
   "cell_type": "code",
   "execution_count": 3,
   "metadata": {
    "collapsed": true,
    "nbpresent": {
     "id": "cf4d2f73-2b35-4097-af2a-02e701109a9f"
    }
   },
   "outputs": [],
   "source": [
    "# Estadísticas\n",
    "'''\n",
    "Creo una variable global para las estadísticas\n",
    "evaluados_global es el número todal de estados evaluados\n",
    "'''\n",
    "evaluados_global = 0"
   ]
  },
  {
   "cell_type": "code",
   "execution_count": 4,
   "metadata": {
    "collapsed": false
   },
   "outputs": [],
   "source": [
    "def getNodoInicial(estado,h):\n",
    "    '''\n",
    "    Recibe el estado inicial y crea el Nodo Inicial\n",
    "    Tambien pone evaluados_global a 0, para que no se acumulen de un problema a otro\n",
    "    '''\n",
    "    global evaluados_global    \n",
    "    evaluados_global = 0\n",
    "    \n",
    "    return Nodo(estado, None, 0, h) \n",
    "    \n",
    " "
   ]
  },
  {
   "cell_type": "code",
   "execution_count": 5,
   "metadata": {
    "collapsed": false
   },
   "outputs": [
    {
     "name": "stdout",
     "output_type": "stream",
     "text": [
      "Nodo  [[1, 1]] set()(0)\n"
     ]
    }
   ],
   "source": [
    "#crea un juego, guardo el nivel en la variable global nivel_global\n",
    "j = getJuego('levels/level01.txt')\n",
    "nivel_global = j.getNivel()\n",
    "e0 = j.getEstado()\n",
    "nInicial = getNodoInicial(e0, 0)\n",
    "print(nInicial)"
   ]
  },
  {
   "cell_type": "code",
   "execution_count": 6,
   "metadata": {
    "collapsed": false,
    "nbpresent": {
     "id": "1dfdcb0d-031c-4d00-898e-2a2d0c1c9a94"
    }
   },
   "outputs": [],
   "source": [
    "def sucesoresBloxorz(nodo):\n",
    "    '''\n",
    "    Devuelve una lista de sucesores.\n",
    "    No se devuelve un hijo que es igual que el padre \n",
    "    (algo que ocurre cuando hay movimientos no validos).\n",
    "        \n",
    "    '''\n",
    "    global nivel_global  \n",
    "    estado = nodo.getEstado()\n",
    "    \n",
    "    estadoH = []\n",
    "    estadoH.append(mueve(estado, nivel_global, [1, 0]))\n",
    "    estadoH.append(mueve(estado, nivel_global, [-1, 0]))\n",
    "    estadoH.append(mueve(estado, nivel_global, [0, 1]))\n",
    "    estadoH.append(mueve(estado, nivel_global, [0, -1]))\n",
    "    \n",
    "    nuevoG = nodo.getG() + 1\n",
    "    hijos = []\n",
    "    for i in [0, 1, 2, 3]:\n",
    "        if (estadoH[i] != estado):\n",
    "            nuevoF = nuevoG + heuristicaBloxorz(estadoH[i])\n",
    "            hijos.append(Nodo(estadoH[i], nodo, nuevoG, nuevoF))\n",
    "   \n",
    "    return hijos\n",
    "\n"
   ]
  },
  {
   "cell_type": "code",
   "execution_count": null,
   "metadata": {
    "collapsed": false
   },
   "outputs": [],
   "source": []
  },
  {
   "cell_type": "code",
   "execution_count": 7,
   "metadata": {
    "collapsed": false
   },
   "outputs": [],
   "source": [
    "def metaBloxorz(estado):\n",
    "    '''\n",
    "    Devuelve True si el estado es meta\n",
    "    '''\n",
    "    global nivel_global\n",
    "    bloque = estado.getBloque()\n",
    "    mapa = nivel_global.getMapa()\n",
    "    \n",
    "    if len(bloque)==1 and mapa[bloque[0][0]][bloque[0][1]]==4:\n",
    "        return True\n",
    "    else:\n",
    "        return False\n"
   ]
  },
  {
   "cell_type": "code",
   "execution_count": 8,
   "metadata": {
    "collapsed": false,
    "nbpresent": {
     "id": "47457509-a222-403d-86f1-b1579bb02044"
    }
   },
   "outputs": [
    {
     "ename": "NameError",
     "evalue": "name 'heuristicaBloxorz' is not defined",
     "output_type": "error",
     "traceback": [
      "\u001b[0;31m---------------------------------------------------------------------------\u001b[0m",
      "\u001b[0;31mNameError\u001b[0m                                 Traceback (most recent call last)",
      "\u001b[0;32m<ipython-input-8-52ab5fe44a57>\u001b[0m in \u001b[0;36m<module>\u001b[0;34m()\u001b[0m\n\u001b[1;32m      1\u001b[0m \u001b[0;31m#pruebo que funciona sucesoresBloxorz\u001b[0m\u001b[0;34m\u001b[0m\u001b[0;34m\u001b[0m\u001b[0m\n\u001b[0;32m----> 2\u001b[0;31m \u001b[0msucesoresBloxorz\u001b[0m\u001b[0;34m(\u001b[0m\u001b[0mnInicial\u001b[0m\u001b[0;34m)\u001b[0m\u001b[0;34m\u001b[0m\u001b[0m\n\u001b[0m",
      "\u001b[0;32m<ipython-input-6-442a64f99ac0>\u001b[0m in \u001b[0;36msucesoresBloxorz\u001b[0;34m(nodo)\u001b[0m\n\u001b[1;32m     19\u001b[0m     \u001b[0;32mfor\u001b[0m \u001b[0mi\u001b[0m \u001b[0;32min\u001b[0m \u001b[0;34m[\u001b[0m\u001b[0;36m0\u001b[0m\u001b[0;34m,\u001b[0m \u001b[0;36m1\u001b[0m\u001b[0;34m,\u001b[0m \u001b[0;36m2\u001b[0m\u001b[0;34m,\u001b[0m \u001b[0;36m3\u001b[0m\u001b[0;34m]\u001b[0m\u001b[0;34m:\u001b[0m\u001b[0;34m\u001b[0m\u001b[0m\n\u001b[1;32m     20\u001b[0m         \u001b[0;32mif\u001b[0m \u001b[0;34m(\u001b[0m\u001b[0mestadoH\u001b[0m\u001b[0;34m[\u001b[0m\u001b[0mi\u001b[0m\u001b[0;34m]\u001b[0m \u001b[0;34m!=\u001b[0m \u001b[0mestado\u001b[0m\u001b[0;34m)\u001b[0m\u001b[0;34m:\u001b[0m\u001b[0;34m\u001b[0m\u001b[0m\n\u001b[0;32m---> 21\u001b[0;31m             \u001b[0mnuevoF\u001b[0m \u001b[0;34m=\u001b[0m \u001b[0mnuevoG\u001b[0m \u001b[0;34m+\u001b[0m \u001b[0mheuristicaBloxorz\u001b[0m\u001b[0;34m(\u001b[0m\u001b[0mestadoH\u001b[0m\u001b[0;34m[\u001b[0m\u001b[0mi\u001b[0m\u001b[0;34m]\u001b[0m\u001b[0;34m)\u001b[0m\u001b[0;34m\u001b[0m\u001b[0m\n\u001b[0m\u001b[1;32m     22\u001b[0m             \u001b[0mhijos\u001b[0m\u001b[0;34m.\u001b[0m\u001b[0mappend\u001b[0m\u001b[0;34m(\u001b[0m\u001b[0mNodo\u001b[0m\u001b[0;34m(\u001b[0m\u001b[0mestadoH\u001b[0m\u001b[0;34m[\u001b[0m\u001b[0mi\u001b[0m\u001b[0;34m]\u001b[0m\u001b[0;34m,\u001b[0m \u001b[0mnodo\u001b[0m\u001b[0;34m,\u001b[0m \u001b[0mnuevoG\u001b[0m\u001b[0;34m,\u001b[0m \u001b[0mnuevoF\u001b[0m\u001b[0;34m)\u001b[0m\u001b[0;34m)\u001b[0m\u001b[0;34m\u001b[0m\u001b[0m\n\u001b[1;32m     23\u001b[0m \u001b[0;34m\u001b[0m\u001b[0m\n",
      "\u001b[0;31mNameError\u001b[0m: name 'heuristicaBloxorz' is not defined"
     ]
    }
   ],
   "source": [
    "#pruebo que funciona sucesoresBloxorz\n",
    "sucesoresBloxorz(nInicial)"
   ]
  },
  {
   "cell_type": "code",
   "execution_count": 9,
   "metadata": {
    "collapsed": true
   },
   "outputs": [],
   "source": [
    "def heuristicaBloxorz(estado):\n",
    "    '''\n",
    "    Devuelve una estimación de lo que falta para llegar a la meta\n",
    "    Tambien incrementa evaluados_global, para llevar una cuenta del número de estados explorados\n",
    "    '''\n",
    "    bloque = estado.getBloque()\n",
    "    global nivel_global\n",
    "    meta = getCoordenadasMeta(nivel_global.getMapa())\n",
    "    global evaluados_global\n",
    "    \n",
    "    #print(bloque)\n",
    "    #print(meta)\n",
    "    #print(bloque)\n",
    "    \n",
    "    evaluados_global += 1\n",
    "    \n",
    "    if not estaTumbado(bloque):\n",
    "        manhattan = [i - j for i, j in zip(meta, bloque[0])]\n",
    "    else:\n",
    "        manhattan = max([x - z for x, z in zip(meta, bloque[0])], [x - z for x, z in zip(meta, bloque[1])])\n",
    "\n",
    "    return manhattan[0] + manhattan[1]"
   ]
  },
  {
   "cell_type": "code",
   "execution_count": 10,
   "metadata": {
    "collapsed": false,
    "nbpresent": {
     "id": "bb6800cc-141f-4bb5-ae72-03a2a1c90b50"
    }
   },
   "outputs": [
    {
     "name": "stdout",
     "output_type": "stream",
     "text": [
      "[1, 1, 1, 0, 0, 0, 0, 0, 0, 0]\n",
      "[1, 3, 1, 1, 1, 1, 0, 0, 0, 0]\n",
      "[1, 1, 1, 1, 1, 1, 1, 1, 1, 0]\n",
      "[0, 1, 1, 1, 1, 1, 1, 1, 1, 1]\n",
      "[0, 0, 0, 0, 0, 1, 1, 4, 1, 1]\n",
      "[0, 0, 0, 0, 0, 0, 1, 1, 1, 0]\n",
      "\n",
      "{}\n",
      "   [[1, 1]] set() False\n",
      " [[2, 1], [3, 1]] set() False\n",
      " [[2, 2], [3, 2]] set() False\n",
      " [[2, 5], [3, 5]] set() False\n",
      " [[2, 7], [3, 7]] set() False\n",
      " [[4, 7]] set() True\n"
     ]
    }
   ],
   "source": [
    "#pruebo que funciona mueve y meta\n",
    "\n",
    "print(nivel_global)\n",
    "print(\" \", e0,metaBloxorz(e0))\n",
    "e1 = mueve(e0,nivel_global,[1,0])\n",
    "print(e1,metaBloxorz(e1))\n",
    "e2 = mueve(e1,nivel_global,[0,1])\n",
    "print(e2,metaBloxorz(e2))\n",
    "e3 = mueve(e2,nivel_global,[0,1])\n",
    "e4 = mueve(e3,nivel_global,[0,1])\n",
    "e5 = mueve(e4,nivel_global,[0,1])\n",
    "print(e5,metaBloxorz(e5))\n",
    "e6 = mueve(e5,nivel_global,[0,1])\n",
    "e7 = mueve(e6,nivel_global,[0,1])\n",
    "print(e7,metaBloxorz(e7))\n",
    "e8 = mueve(e7,nivel_global,[1,0])\n",
    "print(e8,metaBloxorz(e8))"
   ]
  },
  {
   "cell_type": "markdown",
   "metadata": {
    "nbpresent": {
     "id": "597968dc-96fd-4427-8cc3-ace911f8e8c8"
    }
   },
   "source": [
    "### Antes de probar la ejecución de A\\* con un nivel sencillo como el 1, comprueba la ejecución de las funciones de meta, sucesores y heuristica por separado, de lo contrario se podría colgar el notebook."
   ]
  },
  {
   "cell_type": "code",
   "execution_count": 11,
   "metadata": {
    "collapsed": true,
    "nbpresent": {
     "id": "0e48b09d-8aa8-438f-9b36-c44bc05041ae"
    }
   },
   "outputs": [],
   "source": [
    "solucion_global = []\n",
    "juego_global = None\n",
    "nivel_global = None\n",
    "solucion_index_global = 0\n",
    "\n",
    "def on_value_change(name):\n",
    "    \n",
    "    global juego_global\n",
    "    global solucion_global\n",
    "    global solucion_index_global\n",
    "    global solve_global\n",
    "    global right_global\n",
    "    global left_global\n",
    "    \n",
    "    # Mostramos nivel\n",
    "    filename=name['new']\n",
    "    juego_global=getJuego('levels/'+filename)    \n",
    "    pintaJuego(juego_global,visor)\n",
    "    \n",
    "    solucion_global = []\n",
    "    solucion_index_global = 0\n",
    "    solve_global.disabled = False\n",
    "    right_global.disabled = True\n",
    "    left_global.disabled = True\n",
    "    \n",
    "    \n",
    "def on_button_clicked(b):\n",
    "    \n",
    "    global juego_global\n",
    "    global nivel_global\n",
    "    global solucion_global\n",
    "    global solucion_index_global\n",
    "    global solve_global\n",
    "    global right_global\n",
    "    global left_global\n",
    "    global nivel_global\n",
    "    \n",
    "    desc=b.description\n",
    "    \n",
    "    nivel_global = juego_global.getNivel()\n",
    "    estado=juego_global.getEstado()\n",
    "    \n",
    "    if desc==\"Resuelve\":\n",
    "        '''\n",
    "        Parte importante de la práctica\n",
    "        '''\n",
    "        solve_global.disabled=True\n",
    "        solucion_global = AStar(getNodoInicial(estado,heuristicaBloxorz(estado)),\n",
    "                                sucesoresBloxorz, \n",
    "                                metaBloxorz, \n",
    "                                heuristicaBloxorz)\n",
    "        \n",
    "        if len(solucion_global)==0:\n",
    "            print(\"No hay solución\")\n",
    "        \n",
    "        \n",
    "        solucion_index_global = 0\n",
    "        if len(solucion_global)>0:\n",
    "            print(\"Solución en \"+str(len(solucion_global))+\n",
    "                  \" pasos, evaluados \"+str(evaluados_global)+\" estados\")\n",
    "            right_global.disabled = False\n",
    "            left_global.disabled = False\n",
    "            \n",
    "    elif desc==\">\":\n",
    "        solucion_index_global+=1\n",
    "    elif desc==\"<\":\n",
    "        solucion_index_global-=1\n",
    "        \n",
    "    if (solucion_index_global >=0 and \n",
    "        solucion_index_global<len(solucion_global)):\n",
    "        estado=solucion_global[solucion_index_global]\n",
    "        juego_global=Juego(nivel_global,estado)    \n",
    "        pintaJuego(juego_global,visor)\n"
   ]
  },
  {
   "cell_type": "code",
   "execution_count": 12,
   "metadata": {
    "collapsed": false,
    "nbpresent": {
     "id": "d818d249-68e0-41b3-9588-526571596a71"
    }
   },
   "outputs": [
    {
     "name": "stdout",
     "output_type": "stream",
     "text": [
      "Solución en 8 pasos, evaluados 46 estados\n",
      "Solución en 17 pasos, evaluados 417 estados\n",
      "Solución en 20 pasos, evaluados 170 estados\n"
     ]
    }
   ],
   "source": [
    "\n",
    "\n",
    "# lista de nombres de niveles en la carpeta ./levels/\n",
    "levels=getAllLevels()\n",
    "\n",
    "# instancia de Juego obtenida del primer nivel\n",
    "juego_global=getJuego('levels/'+levels[0])\n",
    "\n",
    "# visor HTML donde se representará el juego\n",
    "visor=HTML()\n",
    "\n",
    "# Crea un desplegable con los niveles\n",
    "desplegable = Dropdown(   \n",
    "    options = levels,\n",
    "    description = 'Elija nivel:',\n",
    ")\n",
    "desplegable.observe(on_value_change, names='value')\n",
    "\n",
    "\n",
    "\n",
    "# pinta la representación del juego en el visor\n",
    "pintaJuego(juego_global,visor)\n",
    "\n",
    "\n",
    "\n",
    "# Botones para avanzar en la solución\n",
    "solve_global = Button(description=\"Resuelve\")\n",
    "right_global = Button(description=\">\")\n",
    "left_global = Button(description=\"<\")\n",
    "\n",
    "right_global.disabled=True\n",
    "left_global.disabled=True\n",
    "\n",
    "solve_global.on_click(on_button_clicked)\n",
    "right_global.on_click(on_button_clicked)\n",
    "left_global.on_click(on_button_clicked)\n",
    "\n",
    "\n",
    "\n",
    "\n",
    "\n",
    "control=HBox([solve_global,left_global,right_global])\n",
    "ui=VBox(children=[desplegable, visor, control])\n",
    "\n",
    "display(ui)"
   ]
  },
  {
   "cell_type": "markdown",
   "metadata": {
    "collapsed": true
   },
   "source": [
    "Soluciones con una heurística que devuelve siempre 0 (heurística minorante así que encuentra el camino más corto, pero heurística nada informada, explora el máximo de estados).\n",
    "\n",
    "- Level01 Solución en 8 pasos, evaluados 150 estados\n",
    "- Level02 Solución en 18 pasos, evaluados 747 estados\n",
    "- Level03 Solución en 20 pasos, evaluados 225 estados\n",
    "- Level04 Solución en 29 pasos, evaluados 159 estados\n",
    "- Level05 Solución en 34 pasos, evaluados 705 estados\n",
    "- Level06 Solución en 36 pasos, evaluados 234 estados\n",
    "- Level07 Solución en 45 pasos, evaluados 387 estados\n",
    "- Level11 Solución en 48 pasos, evaluados 390 estados\n",
    "- Level12 Solución en 47 pasos, evaluados 291 estados\n",
    "- Level13 Solución en 66 pasos, evaluados 717 estados"
   ]
  },
  {
   "cell_type": "code",
   "execution_count": null,
   "metadata": {
    "collapsed": true
   },
   "outputs": [],
   "source": []
  },
  {
   "cell_type": "code",
   "execution_count": null,
   "metadata": {
    "collapsed": true
   },
   "outputs": [],
   "source": []
  },
  {
   "cell_type": "code",
   "execution_count": null,
   "metadata": {
    "collapsed": true
   },
   "outputs": [],
   "source": []
  },
  {
   "cell_type": "code",
   "execution_count": null,
   "metadata": {
    "collapsed": true
   },
   "outputs": [],
   "source": []
  },
  {
   "cell_type": "code",
   "execution_count": null,
   "metadata": {
    "collapsed": true
   },
   "outputs": [],
   "source": []
  }
 ],
 "metadata": {
  "anaconda-cloud": {},
  "kernelspec": {
   "display_name": "Python [Root]",
   "language": "python",
   "name": "Python [Root]"
  },
  "language_info": {
   "codemirror_mode": {
    "name": "ipython",
    "version": 3
   },
   "file_extension": ".py",
   "mimetype": "text/x-python",
   "name": "python",
   "nbconvert_exporter": "python",
   "pygments_lexer": "ipython3",
   "version": "3.5.2"
  },
  "widgets": {
   "state": {
    "4073381a19d746a797587856696bb58f": {
     "views": [
      {
       "cell_index": 15
      }
     ]
    }
   },
   "version": "1.2.0"
  }
 },
 "nbformat": 4,
 "nbformat_minor": 0
}
